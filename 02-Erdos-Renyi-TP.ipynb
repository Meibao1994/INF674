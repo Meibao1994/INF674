{
 "cells": [
  {
   "cell_type": "markdown",
   "metadata": {},
   "source": [
    "# ACN 903 S2: Erdös-Rényi Graph\n",
    "\n",
    "## Céline Comte & Fabien Mathieu"
   ]
  },
  {
   "cell_type": "code",
   "execution_count": null,
   "metadata": {},
   "outputs": [],
   "source": [
    "%pylab inline"
   ]
  },
  {
   "cell_type": "markdown",
   "metadata": {},
   "source": [
    "If you want to deepen your theoretical knowledge of the content of this class, you can read (this is **not** mandatory)\n",
    "- Lectures 3 and 4 of the course [Networks by Daron Acemoglu and Asu Ozdaglar][acemoglu],\n",
    "- Chapters 2, 3 and 4 of the book [Epidemics and Rumours in Complex Networks by Moez Draief and Laurent Massoulié][massoulie].\n",
    "\n",
    "[acemoglu]: https://ocw.mit.edu/courses/economics/14-15j-networks-fall-2009/index.htm \"Networks by Daron Acemoglu and Asu Ozdaglar\"\n",
    "[massoulie]: https://www.cambridge.org/core/books/epidemics-and-rumours-in-complex-networks/8C1D162F44C2C09F2B913038A7FA8BF6 \"Epidemics and Rumours in Complex Networks by Moez Draief and Laurent Massoulié\""
   ]
  },
  {
   "cell_type": "markdown",
   "metadata": {},
   "source": [
    "# Reminders: graph theory definitions"
   ]
  },
  {
   "cell_type": "markdown",
   "metadata": {},
   "source": [
    "You can skip this section if you are already familiar with graph theory.\n",
    "\n",
    "A **graph** is a couple $G = (V, E)$\n",
    "where $V$ is a set of **vertices** (also called **nodes**)\n",
    "and $E$ is a set of **edges**.\n",
    "Typically, we would take $V = \\{1,\\ldots,N\\}$ where $N$ is the total number of vertices in the graph.\n",
    "The graph is said **directed** if the edges have an orientation.\n",
    "In this case, $E$ is a set of couples $(i,j)$,\n",
    "where $j \\in V$ is the head of the oriented edge (also called an **arrow**)\n",
    "and $i \\in V$ is its tail.\n",
    "The graph is said **undirected** the edges don't have an orientation.\n",
    "Then $E$ is a set of unordered pairs $\\{i, j\\}$,\n",
    "where $i \\in V$ and $j \\in V$ need not be distinct.\n",
    "There are several ways to describe a graph, for instance:\n",
    "- **Adjacency matrix**: An $N \\times N$ matrix $A = (A_{i,j})_{i, j = 1,\\ldots,N}$, where $A_{i,j} = 1$ if there is an edge between nodes $i$ and $j$ (or from node $i$ to node $j$ if the graph is directed) and $A_{i,j} = 0$ otherwise. If the graph is undirected, the matrix $A$ is symmetrical.\n",
    "- **Adjacency list**: The list of the lists of neighbors of each node.\n",
    "\n",
    "In the sequel, we will focus on undirected graphs.\n",
    "Then the **degree** of a node $i$ is the total number of edges that have $i$ as one of their endpoints.\n",
    "Observe that the sum of the degrees is twice the number of edges\n",
    "(because each edge has two end points).\n",
    "A **path**  is an ordered sequence of nodes\n",
    "such that that two consecutive nodes are connected by an edge.\n",
    "A **connected component** is a maximal set of nodes that are two-by-two connected by a path.\n",
    "The graph is said **connected** if it contains a single connected component,\n",
    "which means that there is a path between any two nodes.\n",
    "A **cycle** is a path that starts and finishes at the same node\n",
    "(as a special case, an edge that has two identical extremities is called a **loop**)."
   ]
  },
  {
   "cell_type": "markdown",
   "metadata": {},
   "source": [
    "# 1. Erdös-Rényi random graph"
   ]
  },
  {
   "cell_type": "markdown",
   "metadata": {},
   "source": [
    "The **Erdös-Rényi graph $\\mathbf{G(n,p)}$** is an undirected random graph without loop.\n",
    "Unlike the Galton-Watson process, the population contains a **finite number $\\mathbf{n}$ of nodes**\n",
    "and the randomness only lies in the construction of the edges.\n",
    "Specifically, for each pair of (distinct) nodes $i$ and $j$,\n",
    "there is an edge between $i$ and $j$ with **probability $\\mathbf{p}$**,\n",
    "independently of the existence of the other edges.\n",
    "Thoughout this practical, we will study the behavior of the Erdös-Rényi graph $G(n,p)$ as $n$ goes to infinity."
   ]
  },
  {
   "cell_type": "markdown",
   "metadata": {},
   "source": [
    "### Question 1\n",
    "\n",
    "Write a function ``erdos_renyi(n, p)`` that returns the adjacency list of a realization of the Erdös-Rényi graph $G(n,p)$.\n",
    "For instance, if you build a graph on $n = 5$ nodes numbered $0$, $1$, $2$, $3$, and $4$, and with edges between the nodes $0$ and $3$, $0$ and $4$, $1$ and $4$, $2$ and $3$, and $2$ and $4$, the output should look like ``[[3, 4], [4], [3, 4], [0, 2], [0, 1, 2]]``.\n",
    "\n",
    "**Remarks:**\n",
    "1. There are many different ways of implementing this function. Remember that you want an undirected graph without loop. In particular, if $j$ is in the adjacency list of $i$, then $i$ should also be in the adjacency list of $j$.\n",
    "2. Since this function will be used over and over again throughout the practical, we recommend that your final implementation relies on ``numpy`` functions rather than ``for`` loops in order to boost the performance. You can reuse some of the functions of the first practical. Depending on your implementation, the following functions might also be useful: ``triu``, ``transpose``, ``where``."
   ]
  },
  {
   "cell_type": "markdown",
   "metadata": {},
   "source": [
    "### Question 2\n",
    "\n",
    "Give the mean number of edges in the graph $G(n,p)$. Verify that, for ``n = 1000``, the mean number of edges in the instance returned by the function ``erdos_renyi`` of Question 1 is close to this value."
   ]
  },
  {
   "cell_type": "markdown",
   "metadata": {
    "cell_style": "center"
   },
   "source": [
    "### Question 3\n",
    "\n",
    "Write a function ``size_components(L)`` that takes as input the adjacency list ``L`` of an undirected graph and returns a list of the sizes (in number of nodes) of its connected components.\n",
    "\n",
    "**Remark:** For this question and the next one, it is best to verify the output of your function on small graphs, such as instances of the Erdös-Rényi graph with $n = 5$. You will use these functions a lot in the rest of the practical."
   ]
  },
  {
   "cell_type": "markdown",
   "metadata": {},
   "source": [
    "# 2. Reed-Frost Epidemic"
   ]
  },
  {
   "cell_type": "markdown",
   "metadata": {},
   "source": [
    "We now describe the **Reed-Frost epidemic**, which is a simple model to analyze the propagation of an epidemic (disease, rumor...) in a population.\n",
    "\n",
    "We consider a population of **$\\mathbf{n}$ individuals**. The time is slotted and, at the end of each time slot, each individual can be either ***susceptible***, ***infected***, or ***removed***. At the beginning of the first time slot, a single individual is *infected* and the others are *susceptible*. Then the epidemic evolves over time as follows. Any individual that is *infected* at the beginning of one time slot is contagious during this time slot and (definitely) *removed* at the end. During this unique time slot when they are contagious, an individual can infect any other *susceptible* individual independently at random with some **infection probability $\\mathbf{p}$**. Therefore, the individuals who were infected at the beginning of some time slot are *removed* at the end of this time slot, those who were infected during this time slot become *infected*, and the others remain *susceptible*.\n",
    "\n",
    "We will look at the behavior of the epidemic as the population size $n$ grows. The exercise is divided into two parts that focus on two (related but different) questions:\n",
    "- Part 2.1: What is the mean size of the infection, starting from an arbitrary individual of the population? In particular, is there a minimum value of the infection probability $p$ that guarantees that the infection propagates to a non-negligible fraction of the population?\n",
    "- Part 2.2: Is there a minimum value of the infection probability $p$ that guarantees that the infection propagates to all $n$ individuals?"
   ]
  },
  {
   "cell_type": "markdown",
   "metadata": {},
   "source": [
    "## 2.1 Mean size of the infection"
   ]
  },
  {
   "cell_type": "markdown",
   "metadata": {},
   "source": [
    "### Question 4\n",
    "\n",
    "The Reed-Frost epidemic is related to the Erdös-Rényi random graph as follows. If we consider a Reed-Frost epidemic that starts at some individual $i$ and has an infection probability $p$, the individuals who are infected at the end of some time slot $t \\geq 1$ correspond to the nodes that are at distance $t$ of node $i$ in the Erdös-Rényi random graph $G(n,p)$.\n",
    "\n",
    "Using this relation with Erdös-Rényi graphs, adapt the functions of Exercise 1 to compute the mean number of individuals that are eventually removed in the Reed-Frost epidemic, starting from an arbitrary individual of the population (say, the first one). The inputs of this new function ``infection_size(n, p, nb_trials)`` are the number ``n`` of individuals in the population, the infection probability ``p``, and the number ``nb_trials`` of independent realizations to consider."
   ]
  },
  {
   "cell_type": "markdown",
   "metadata": {},
   "source": [
    "### Question 5\n",
    "\n",
    "For a given population size ``n``, plot the mean number of individuals that are eventually infected by a Reed-Frost epidemic as a function of the infection probability ``p``.\n",
    "We advise you to consider ``n = 500`` with ``nb_trials = 200`` trials and to focus on small values of ``p``.\n",
    "Discuss the results. What do you observe?"
   ]
  },
  {
   "cell_type": "markdown",
   "metadata": {},
   "source": [
    "### Question 6\n",
    "\n",
    "At this point, can you make a parallel with the phase transition observed for the Galton-Watson process?\n",
    "Can you explain it?\n",
    "\n",
    "**Hint:** Compare the *generation by generation* traversal of the Galton-Watson process with the propagation of the Reed-Frost epidemic."
   ]
  },
  {
   "cell_type": "markdown",
   "metadata": {},
   "source": [
    "## 2.2 Probability of a total infection"
   ]
  },
  {
   "cell_type": "markdown",
   "metadata": {},
   "source": [
    "### Question 7\n",
    "\n",
    "Write a function ``infection_proba(n, p, nb_trials)`` that estimates the probability that the Reed-Frost epidemic with infection probability ``p`` propagates to all ``n`` individuals. Each value should be obtained by averaging ``nb_trials`` independent realizations of the infection."
   ]
  },
  {
   "cell_type": "markdown",
   "metadata": {},
   "source": [
    "### Question 8\n",
    "\n",
    "Plot the probability that the Reed-Frost epidemic propagates to all ``n`` individuals as a function of the infection probability ``p``, for the same values of ``n`` and ``nb_trials`` as before. Discuss the results. Do you observe the same transition as in Question 2?"
   ]
  },
  {
   "cell_type": "markdown",
   "metadata": {},
   "source": [
    "### Question 9\n",
    "\n",
    "Give the probability that a given node in the Erdös-Rényi graph $G(n,p)$ is isolated, in the sense that this is not connected to any other nodes in the graph. Use this result to compute the mean number of isolated nodes in the graph. Look at the limit of this value as $n \\to +\\infty$, when $p = \\lambda \\frac{\\log(n)}n$ for some $\\lambda > 0$. What does the result suggest? Is it consistent with the observation of Question 8?"
   ]
  },
  {
   "cell_type": "markdown",
   "metadata": {},
   "source": [
    "# 3. The heterogeneous Erdös-Rényi graph, a.k.a.  the stochastic block model (optional)"
   ]
  },
  {
   "cell_type": "markdown",
   "metadata": {},
   "source": [
    "We finally consider a **heterogeneous random graph** $\\mathbf{G(n_1, p_1, n_2, p_2, p)}$ defined as follows:\n",
    "- There are $n_1$ nodes of type 1 and $n_2$ nodes of type 2;\n",
    "- Two distinct nodes of type 1 are connected by an edge with probability $p_1$;\n",
    "- Two distinct nodes of type 2 are connected by an edge with probability $p_2$;\n",
    "- A node of type 1 and a node of type 2 are connected by an edge with probability $p$.\n",
    "\n",
    "This heterogeneous random graph is used to describe the propagation of an extension of the Reed-Frost epidemic with a population of size $n = n_1 + n_2$, where the infection probabilities depend on the types of the individuals. The objective of this exercise is to generalize the result of Exercise 2.1 about the mean infection size."
   ]
  },
  {
   "cell_type": "markdown",
   "metadata": {},
   "source": [
    "### Question 10\n",
    "\n",
    "Write a function ``heterogeneous_erdos_renyi(n1, p1, n2, p2, p)`` that returns the adjacency list of a realization of the heterogeneous Erdös-Rényi graph $G(n_1, p_1, n_2, p_2, p)$."
   ]
  },
  {
   "cell_type": "markdown",
   "metadata": {},
   "source": [
    "### Question 11\n",
    "\n",
    "Assuming that $p_1 = p_2 = 0$, use the same approach as in Question 6 to intuit the critical value of $p$ that guarantees that the infection propagates to a non-negligible fraction of the population as $n_1$ and $n_2$ go to infinity. The objective is not to *prove* anything, but just to reason about the model."
   ]
  },
  {
   "cell_type": "markdown",
   "metadata": {},
   "source": [
    "### Question 12\n",
    "\n",
    "Verify your guess by simulation. You can either reuse the function ``size_components`` of Questions 1.2 or write a new function."
   ]
  },
  {
   "cell_type": "markdown",
   "metadata": {},
   "source": [
    "### Question 13\n",
    "\n",
    "Generalize your answer to arbitrary values of $p_1$ and $p_2$."
   ]
  }
 ],
 "metadata": {
  "language_info": {
   "name": "python",
   "pygments_lexer": "ipython3"
  }
 },
 "nbformat": 4,
 "nbformat_minor": 2
}
