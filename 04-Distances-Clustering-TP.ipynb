{
 "cells": [
  {
   "cell_type": "markdown",
   "metadata": {
    "slideshow": {
     "slide_type": "-"
    }
   },
   "source": [
    "# ACN 903 / INF 674, Session #4: Distances and Clustering\n",
    "\n",
    "## Céline Comte & Fabien Mathieu"
   ]
  },
  {
   "cell_type": "markdown",
   "metadata": {},
   "source": [
    "During the course, you will learn how to study real-life datasets. The goal of this practical is to begin with simple (e.g. non-oriented) graphs. Two datasets are proposed: DBLP and IMDB. In further practicals, you will also play with oriented graphs using Wikipedia datasets.\n",
    "\n",
    "**Remark:** the IMDB dataset is much larger than the DBLP dataset. You should play with it only *after* you mastered the DBLP dataset."
   ]
  },
  {
   "cell_type": "code",
   "execution_count": null,
   "metadata": {},
   "outputs": [],
   "source": [
    "%pylab inline\n",
    "import networkx as nx\n",
    "import zipfile\n",
    "import gzip\n",
    "import codecs"
   ]
  },
  {
   "cell_type": "markdown",
   "metadata": {},
   "source": [
    "# 1. Basic Tools"
   ]
  },
  {
   "cell_type": "markdown",
   "metadata": {},
   "source": [
    "We provide you with a few functions to deal with the dataset format. You will have to use them in the practical. There are strictly speaking no question for this part, yet it is **strongly** advised that you take your time to understand how the different functions proposed here work."
   ]
  },
  {
   "cell_type": "markdown",
   "metadata": {},
   "source": [
    "## File format"
   ]
  },
  {
   "cell_type": "markdown",
   "metadata": {},
   "source": [
    "The datasets are provided in the form of *zip* archives. Each *zip* archive contains the following files:\n",
    "- **_dataset_.ids** contains the actual names of the nodes (one per line, $ n $ lines in total). By convention, each node is associated to its line number (from $ 0 $ to $ n-1 $). Actual names may contain special characters (e.g. *ç*, *é*), so they are encoded with *utf-8*.\n",
    "- **_dataset_.adja** contains the adjacency list of the graph: line $ i $ (from $ 0 $ to $ n-1 $) contains, in plain ASCII, the numbers of the nodes that are neighbors of $ i $.\n",
    "- For oriented graphs, **_dataset_-t.adja** contains the adjacency list of the transposed graph: line $ i $ (from $ 0 $ to $ n-1 $) contains, in plain ASCII, the indices of the nodes that are linked by $ i $.\n",
    "\n",
    "\n",
    "Datasets will be given on a USB key. This practical assumes they are stored in **../Datasets/** relatively to your working directory."
   ]
  },
  {
   "cell_type": "code",
   "execution_count": null,
   "metadata": {},
   "outputs": [],
   "source": [
    "directory = \"../Datasets/\""
   ]
  },
  {
   "cell_type": "markdown",
   "metadata": {},
   "source": [
    "## Caching results"
   ]
  },
  {
   "cell_type": "markdown",
   "metadata": {},
   "source": [
    "It can be a burden to parse again and again the same datas from ASCII files and convert them into a proper format. The following function will be used to stash your variable in a compressed *gz* file for further use. Thanks to Pierre-Antoine (ACN 2017-2018) for pointing out the possibility (even if his solution based on *npz* seemed to only work on his laptop for some reason, so some adjustments had to be made)."
   ]
  },
  {
   "cell_type": "code",
   "execution_count": null,
   "metadata": {},
   "outputs": [],
   "source": [
    "def use_cache(builder, prefix=\"dblp\", variable = \"size\", rebuild = False, compress = False):            \n",
    "        try:\n",
    "            if rebuild:\n",
    "                raise ValueError('Value needs to be rebuilt')\n",
    "            if compress:\n",
    "                with gzip.GzipFile(directory+prefix+\"-\"+variable+\".npy.gz\", \"r\") as f:\n",
    "                    return np.load(f)\n",
    "            else:\n",
    "                return np.load(directory+prefix+\"-\"+variable+\".npy\")\n",
    "        except:\n",
    "            data = builder(prefix)\n",
    "            if compress:\n",
    "                with gzip.GzipFile(directory+prefix+\"-\"+variable+\".npy.gz\", \"w\") as f:\n",
    "                    np.save(f, data)\n",
    "            else:\n",
    "                np.save(directory+prefix+\"-\"+variable, data)\n",
    "            return data\n",
    "# Set default behavior\n",
    "compress = False"
   ]
  },
  {
   "cell_type": "markdown",
   "metadata": {},
   "source": [
    "Most of the core functions below have the following behavior: first they try to load the results from an npy file if one exists, otherwise they parse the dataset to extract the information and save it in an npy file for the next use. This approach avoids re-doing the same work over and over again."
   ]
  },
  {
   "cell_type": "markdown",
   "metadata": {},
   "source": [
    "## Size"
   ]
  },
  {
   "cell_type": "markdown",
   "metadata": {},
   "source": [
    "The following function gives the number of nodes $n$ and the total number of *oriented edges* $m$ of the graph. In the case where the graph is undirected, all edges will be counted twice ($(i,j)$ and $(j,i)$ are the same edge on an undirected graph) so the actual number of edges is $\\frac m 2$."
   ]
  },
  {
   "cell_type": "code",
   "execution_count": null,
   "metadata": {},
   "outputs": [],
   "source": [
    "def build_size(prefix = \"dblp\"):\n",
    "    n = 0\n",
    "    m = 0\n",
    "    with zipfile.ZipFile(directory+prefix+\".zip\") as myzip:\n",
    "        with myzip.open(prefix+\".adja\") as f:\n",
    "            for line in f:\n",
    "                n += 1\n",
    "                m += len([int(s) for s in line.split()])\n",
    "    size = array([n, m])\n",
    "    return size\n",
    "\n",
    "def get_size(prefix = \"dblp\", rebuild = False):\n",
    "    return use_cache(build_size, prefix, variable = \"size\", rebuild = rebuild, compress = compress)"
   ]
  },
  {
   "cell_type": "markdown",
   "metadata": {},
   "source": [
    "Let us run this function to create the npy file."
   ]
  },
  {
   "cell_type": "code",
   "execution_count": null,
   "metadata": {},
   "outputs": [],
   "source": [
    "prefix = \"dblp\"\n",
    "n, m = get_size(prefix)\n",
    "print(\"Number of nodes in %s: %s\" % (prefix, n))\n",
    "print(\"Number of edges in %s: %s\" % (prefix, m//2))"
   ]
  },
  {
   "cell_type": "markdown",
   "metadata": {},
   "source": [
    "## Adjacency List"
   ]
  },
  {
   "cell_type": "markdown",
   "metadata": {},
   "source": [
    "A natural way to store the adjacency list would be to use an array (or list) of arrays (or lists), such that A[i][j] would refer to the $j$th neighbor of node $i$. In practice, this structure can have some memory usage overhead, so we will store the \n",
    "adjacency list in a flat array with the function below.\n",
    "\n",
    "**Remark:** the proposed format is known in literature as Compressed Sparse Row (CSR). More details can be found on https://en.wikipedia.org/wiki/Sparse_matrix"
   ]
  },
  {
   "cell_type": "code",
   "execution_count": null,
   "metadata": {},
   "outputs": [],
   "source": [
    "def build_adjacency(prefix = \"dblp\"):\n",
    "    n, m = get_size(prefix)\n",
    "    A = zeros(n+m+1, dtype = int)\n",
    "    A[0] = n+1 # Don't forget the +1!!!\n",
    "    with zipfile.ZipFile(directory+prefix+\".zip\") as myzip:\n",
    "        with myzip.open(prefix+\".adja\") as f:\n",
    "            i = 0\n",
    "            for line in f:\n",
    "                neighbors = array(line.split(), dtype = int)\n",
    "                A[i+1] = A[i]+len(neighbors)\n",
    "                A[A[i]:A[i+1]] = neighbors\n",
    "                i += 1\n",
    "    return A\n",
    "def get_adjacency(prefix = \"dblp\", rebuild = False):\n",
    "    return use_cache(build_adjacency, prefix, variable = \"adjacency\", rebuild = rebuild, compress = compress)"
   ]
  },
  {
   "cell_type": "markdown",
   "metadata": {},
   "source": [
    "We can load $A$ in memory."
   ]
  },
  {
   "cell_type": "code",
   "execution_count": null,
   "metadata": {},
   "outputs": [],
   "source": [
    "A = get_adjacency(\"dblp\")"
   ]
  },
  {
   "cell_type": "markdown",
   "metadata": {},
   "source": [
    "The result, *A*, is a numpy array of integer of size $n+m+1$, organized as follows:\n",
    "- The $n+1$ first values are indexes\n",
    "- The $m$ last values are destinations\n",
    "- The neighbors of a node $i$ are stored in A[A[i]:A[i+1]]\n",
    "\n",
    "The following function just return the neighbors."
   ]
  },
  {
   "cell_type": "code",
   "execution_count": null,
   "metadata": {},
   "outputs": [],
   "source": [
    "def neighbors(A, index):\n",
    "    return A[A[index]:A[index+1]]"
   ]
  },
  {
   "cell_type": "markdown",
   "metadata": {},
   "source": [
    "In practice, just use A[A[i]:A[i+1]] if you can, it avoids calling a function."
   ]
  },
  {
   "cell_type": "markdown",
   "metadata": {},
   "source": [
    "## Index / Name conversion"
   ]
  },
  {
   "cell_type": "markdown",
   "metadata": {},
   "source": [
    "All the functions above assume a node is represented by an integer $0\\leq i<n$, but researchers, Wikipedia pages, and even actors have names! Let us write some functions to translate integers to names and *vice versa*."
   ]
  },
  {
   "cell_type": "code",
   "execution_count": null,
   "metadata": {},
   "outputs": [],
   "source": [
    "def build_ids(prefix = \"dblp\"):\n",
    "    n, m = get_size(prefix)\n",
    "    delimiter = zeros(n+1, dtype = int)\n",
    "    text = \"\"\n",
    "    with zipfile.ZipFile(directory+prefix+\".zip\") as myzip:\n",
    "        with myzip.open(prefix+\".ids\") as f:\n",
    "            i = 0\n",
    "            for line in codecs.iterdecode(f, 'utf8'):\n",
    "                delimiter[i+1] = delimiter[i]+len(line)-1\n",
    "                text += line[0:-1]\n",
    "                i += 1\n",
    "    return [delimiter, text]\n",
    "    \n",
    "def get_ids(prefix = \"dblp\", rebuild = False):\n",
    "    return use_cache(build_ids, prefix, variable = \"ids\", rebuild = rebuild)"
   ]
  },
  {
   "cell_type": "markdown",
   "metadata": {},
   "source": [
    "The function above returns a *delimiter* array of size $n+1$ and a *text* string that concatenates all researcher names. It uses the same principle used for the adjacency list: the name of a researcher associated to number $i$ is text[delimiter[i]:delimiter[i+1]]. This allows us to do the conversion from name to index, and vice versa."
   ]
  },
  {
   "cell_type": "code",
   "execution_count": null,
   "metadata": {},
   "outputs": [],
   "source": [
    "def index2name(index, prefix = \"dblp\", delimiter = None, text = None):\n",
    "    if delimiter is None:\n",
    "        delimiter, text = get_ids(prefix)\n",
    "    return text[delimiter[index]:delimiter[index+1]]"
   ]
  },
  {
   "cell_type": "code",
   "execution_count": null,
   "metadata": {},
   "outputs": [],
   "source": [
    "def name2index(name, prefix = \"dblp\", delimiter = None, text = None):\n",
    "    try:\n",
    "        if delimiter is None:\n",
    "            delimiter, text = get_ids(prefix)\n",
    "        offset = text.index(name)\n",
    "        return where(delimiter == offset)[0][0]\n",
    "    except:\n",
    "        print(\"Name not found.\")"
   ]
  },
  {
   "cell_type": "markdown",
   "metadata": {},
   "source": [
    "Let us try with some names. Note that the first execution will build the index."
   ]
  },
  {
   "cell_type": "code",
   "execution_count": null,
   "metadata": {},
   "outputs": [],
   "source": [
    "name2index(\"Paul_Erdös\")"
   ]
  },
  {
   "cell_type": "code",
   "execution_count": null,
   "metadata": {},
   "outputs": [],
   "source": [
    "name2index(\"Fabien_Mathieu\")"
   ]
  },
  {
   "cell_type": "code",
   "execution_count": null,
   "metadata": {},
   "outputs": [],
   "source": [
    "index2name(711561)"
   ]
  },
  {
   "cell_type": "code",
   "execution_count": null,
   "metadata": {},
   "outputs": [],
   "source": [
    "index2name(149114)"
   ]
  },
  {
   "cell_type": "markdown",
   "metadata": {},
   "source": [
    "Remark: The ``name2index`` function is very rough. It just tries to match ``name`` as a substring of ``text`` and find the corresponding index in the delimiter array. It is quite slow and may fail if the name of a researcher is a substring of the name of another researcher, but it will be enough for this practical."
   ]
  },
  {
   "cell_type": "markdown",
   "metadata": {},
   "source": [
    "## List comprehension"
   ]
  },
  {
   "cell_type": "markdown",
   "metadata": {},
   "source": [
    "You may have already seen *list comprehension* before: it is for example used in some of the function above to convert a text line into a list of neighbors when you parse the adjacency list: ``[int(s) for s in line.split()]``.\n",
    "\n",
    "They are a powerful tool to construct a list by describing how it is built, and you will have to use them in this practical, so you should study the following examples."
   ]
  },
  {
   "cell_type": "markdown",
   "metadata": {},
   "source": [
    "A first simple example: the list of the squares of the integers from 0 to 5:"
   ]
  },
  {
   "cell_type": "code",
   "execution_count": null,
   "metadata": {},
   "outputs": [],
   "source": [
    "[i**2 for i in range(6)]"
   ]
  },
  {
   "cell_type": "markdown",
   "metadata": {},
   "source": [
    "One of the interest of list comprehension is that they can be nested. For example, the list of the squares of the 6 first positive odd integers."
   ]
  },
  {
   "cell_type": "code",
   "execution_count": null,
   "metadata": {},
   "outputs": [],
   "source": [
    "[i**2 for i in [2*k+1 for k in range(6)]]"
   ]
  },
  {
   "cell_type": "markdown",
   "metadata": {},
   "source": [
    "A last example of list comprehension, which will be very helpful for the clustering coefficient. Can you figure out what it does?"
   ]
  },
  {
   "cell_type": "code",
   "execution_count": null,
   "metadata": {},
   "outputs": [],
   "source": [
    "[k for nj in [range(j) for j in range(6)] for k in nj]"
   ]
  },
  {
   "cell_type": "markdown",
   "metadata": {},
   "source": [
    "# 2. Distances and neighborhood"
   ]
  },
  {
   "cell_type": "markdown",
   "metadata": {},
   "source": [
    "## Question 1"
   ]
  },
  {
   "cell_type": "markdown",
   "metadata": {},
   "source": [
    "Let us check that you can use the tools above: write a function **coauthors** that gives you the co-authors of someone. It should take a string as input and return a list of strings."
   ]
  },
  {
   "cell_type": "markdown",
   "metadata": {},
   "source": [
    "**Answer:**"
   ]
  },
  {
   "cell_type": "markdown",
   "metadata": {},
   "source": [
    "## Question 2\n",
    "\n",
    "Write a function that takes a node index and gives its distance from Erdös. Use it to compute the Erdös number of Fabien Mathieu."
   ]
  },
  {
   "cell_type": "markdown",
   "metadata": {},
   "source": [
    "**Answer:**"
   ]
  },
  {
   "cell_type": "markdown",
   "metadata": {},
   "source": [
    "## Question 3\n",
    "\n",
    "Compute the number of researchers at distance $i$ from a node given by its index. Compare the number of researchers at distance 3 from the following researchers:\n",
    "- \"Paul_Erdös\"\n",
    "- \"Fabrice_Lumineau\"\n",
    "- \"Fabien_Mathieu\"\n",
    "- \"Jean-Louis_Rougier\""
   ]
  },
  {
   "cell_type": "markdown",
   "metadata": {},
   "source": [
    "**Answer:**"
   ]
  },
  {
   "cell_type": "markdown",
   "metadata": {},
   "source": [
    "## Question 4 (Bonus)"
   ]
  },
  {
   "cell_type": "markdown",
   "metadata": {},
   "source": [
    "Write a function that takes a node index and gives a shortest path from Erdös. Test it."
   ]
  },
  {
   "cell_type": "markdown",
   "metadata": {
    "slideshow": {
     "slide_type": "-"
    }
   },
   "source": [
    "**Answer:**"
   ]
  },
  {
   "cell_type": "markdown",
   "metadata": {},
   "source": [
    "## Question 5 (Bonus)\n",
    "\n",
    "Consider a few researchers of your choice in DBLP database with finite Erdös numbers. \n",
    "Choose them from different branches of science.\n",
    "For each pair of these researchers, compare the distance between them to the sum of their Erdös numbers. Comment.\n",
    "\n",
    "Remark: The exercise will be more interesting with IMDB dataset."
   ]
  },
  {
   "cell_type": "markdown",
   "metadata": {},
   "source": [
    "**Answer:**"
   ]
  },
  {
   "cell_type": "markdown",
   "metadata": {},
   "source": [
    "# 3. Clustering Coefficient "
   ]
  },
  {
   "cell_type": "markdown",
   "metadata": {},
   "source": [
    "Informally, the clustering definition tells how likely it is that the friend of your friend is your friend. In other words, it tries to quantify the so-call *small-world* effect.\n",
    "\n",
    "When one wants to give a proper definition of what is a clustering coefficient, multiple options exist. For this practical, we will rely on the metrics introduced by Newman in\n",
    "[The structure and function of complex networks][newman]. Note that these are the definitions proposed in Wikipedia (avoid the French version by the way, the translation is lossy).\n",
    "\n",
    "Note that we will slightly alter some of the definitions proposed by [Newman][newman] to simplify the practical, but the metrics are exactly the same.\n",
    "\n",
    "[newman]: http://math.uchicago.edu/~shmuel/Network-course-readings/Newman,%20SIAM.pdf \"The structure and function of complex networks by M.E.J. Newman\""
   ]
  },
  {
   "cell_type": "markdown",
   "metadata": {},
   "source": [
    "## Definitions\n",
    "\n"
   ]
  },
  {
   "cell_type": "markdown",
   "metadata": {},
   "source": [
    "For a simple graph $G = (V,E)$ (*simple* means not oriented, no loops). We introduce the following notation for a node $i \\in V$:\n",
    "- $N(i):= \\{j\\in V \\big| (i,j)\\in E\\}$ is the *neighborhood* of $i$. Note that $d_i:=|N(i)|$ is the degree of $i$.\n",
    "- $B(i):= \\{(j,k)\\in V^2 \\big| (i,j)\\in E, (i,k)\\in E, j\\neq k\\}$ are the *edge pairs* of $i$. Note that the tuple $(j,k)$ is oriented ($(j,k)\\neq(k,j)$). $b_i$ denotes $|B(i)|$. It is straightforward to check that $b_i = d_i(d_i-1)$\n",
    "- $T(i):= \\{(j,k)\\in V^2 \\big| (i,j)\\in E, (i,k)\\in E, (j,k)\\in E\\}$ are the *oriented triangles* of $i$. Note that the tuple $(j,k)$ is oriented ($(j,k)\\neq(k,j)$). $t_i$ denotes $|T(i)|$.\n",
    "\n",
    "Remark that $T(i)\\subseteq B(i)$: all oriented triangles are also edge pairs, the only difference is the existence of an edge between the pair nodes.\n",
    "\n",
    "The clustering coefficient just measures the ratio between $T$ and $B$. It comes in two flavors, local and global:\n",
    "- The *local* clustering coefficient of a node $i$ is the ratio $c_i:=\\frac{t_i}{b_i}$. By convention, for $d_i=0$ (isolated node) or $d_i=1$ (leaf), we assume $c_i = 0$.\n",
    "- The *average local* clustering coefficient $C_l$ is just the average $C_l:=\\frac{1}{|V|}\\sum_{i\\in V}c_i$.\n",
    "- The *global* clustering coefficient $C_g$ is the ratio between the total number of oriented triangles and the total number of edge pairs: $C_g:= \\frac{\\sum_{i\\in V} t_i}{\\sum_{i\\in V} b_i}$.\n",
    "\n",
    "Last definition: the *reference clustering* of a simple graph $G = (V, E)$ is defined as $C_r:=\\frac{2|E|}{|V|(|V|-1)}$. It corresponds to the typical clustering coefficient one would observe on a random graph (e.g. Erdös-Rényi) having on average the same number of nodes and edges as $G$.\n",
    "\n",
    "[newman]: http://math.uchicago.edu/~shmuel/Network-course-readings/Newman,%20SIAM.pdf \"The structure and function of complex networks by M.E.J. Newman\""
   ]
  },
  {
   "cell_type": "markdown",
   "metadata": {},
   "source": [
    "## Example\n",
    "\n",
    "To illustrate the definitions above, consider the following graph :\n",
    "- $V = \\{A, B, C, D\\}$\n",
    "- $E = \\{(AB), (AC), (AD), (BC)\\}$ \n",
    "\n",
    "It is displayed in the cell below in GraphViz, but you may need a working installation of GraphViz for it to display correctly. If you want to see it (this is optional, unless you want to do bonus question 3.3), you'll need to:\n",
    "- install GraphViz on your computer (http://www.graphviz.org/Download.php)\n",
    "- make sure the binaries are in your path (for Windows users)\n",
    "- install the Python interface: *pip install graphviz*"
   ]
  },
  {
   "cell_type": "code",
   "execution_count": null,
   "metadata": {
    "hide_input": true
   },
   "outputs": [],
   "source": [
    "from graphviz import Graph\n",
    "d = Graph(strict = True)\n",
    "d.edge(\"A\",\"B\")\n",
    "d.edge(\"A\",\"C\")\n",
    "d.edge(\"B\",\"C\")\n",
    "d.edge(\"A\",\"D\")\n",
    "d"
   ]
  },
  {
   "cell_type": "markdown",
   "metadata": {},
   "source": [
    "We have the following:\n",
    "- Local clustering coefficients:\n",
    "    - $A$ has 6 edge pairs and 2 oriented triangles: $c_A = \\frac 1 3$\n",
    "    - $B$ has 2 edge pairs and 2 oriented triangles: $c_B = 1$\n",
    "    - $C$ has 2 edge pairs and 2 oriented triangles: $c_C = 1$\n",
    "    - $D$ has 0 edge pairs and 0 oriented triangles: $c_D = 0$ by convention.\n",
    "- Average local clustering: $C_l = \\frac{1/3+1+1+0}{4}=\\frac{7}{12}$.\n",
    "- Global clustering coefficient: $C_g = \\frac{2+2+2+0}{6+2+2+0} = \\frac{3}{5}$\n",
    "    - Notice that $C_g\\neq C_l$.\n",
    "    - One verifies that $C_g = \\frac{1}{10}(6c_A+2c_B+2c_C+0c_D)$.\n",
    "- Reference clustering: $C_r = \\frac{4}{3\\times 2} = \\frac 2 3$\n",
    "\n",
    "**Remark:** you may have noticed that the reference clustering is greater than the others, yet it is impossible to produce a graph with 4 nodes and 4 edges with a higher clustering. The short answer is that is is a border effect due to the small size of the graph. A deeper, slightly longer answer can be provided on demand.\n"
   ]
  },
  {
   "cell_type": "markdown",
   "metadata": {},
   "source": [
    "## Question 1"
   ]
  },
  {
   "cell_type": "markdown",
   "metadata": {},
   "source": [
    "Express the global clustering coefficient as a function of the local clustering coefficients. Discuss qualitatively how the average local clustering coefficient and the global clustering coefficient may differ."
   ]
  },
  {
   "cell_type": "markdown",
   "metadata": {},
   "source": [
    "**Answer:**"
   ]
  },
  {
   "cell_type": "markdown",
   "metadata": {},
   "source": [
    "## Question 2"
   ]
  },
  {
   "cell_type": "markdown",
   "metadata": {},
   "source": [
    "Write a function that gives the local clustering coefficient $c_i$ of a node with identifier $i$ in DBLP. Try to make it as fast as possible.\n",
    "\n",
    "**Hints:**\n",
    "- The adjacency list you computed above will be quite useful.\n",
    "- Your main focus should be the computation of the number of oriented triangles of $i$.\n",
    "    - You can remark that $(j,k)$ is an oriented triangle of $i$ iff $j\\in N(i)$, $k\\in N(j)$ and $k\\in N(i)$.\n",
    "    - In particular, if you compute the set $N^2(i):=\\cup_{j\\in N(i)}N(j)$ with multiplicity (a given $k$ can be in the set multiple times if it is the neighbors of multiple $j$'s), you *just* have to count the number of elements of $N^2(i)$ that belongs to $N(i)$.\n",
    "    - So you need to compute $N^2(i) = \\{k \\in N(j)\\text{ s.t. }j\\in N(i)\\}$ (with multiplicity). Maybe it is time for you to start using the full power of list comprehension (see examples from [Basic Tools](#List-comprehension)).\n",
    "    - Look at the numpy function ``in1d``, it may be handy.\n",
    "- Remind that a function call can slow down the execution. If it is a very small function, it may be faster to just rewrite it.\n",
    "- To check your code, here are a few local clusterings:\n",
    "    - \"Marc-Olivier_Buob\": 0.667\n",
    "    - \"Thomas_H._Clausen\": 0.263\n",
    "    - \"Paul_Erdös\": 0.039    \n",
    "    - \"Fabien_Mathieu\": 0.159\n",
    "    - \"Jean-Louis_Rougier\": 0.132"
   ]
  },
  {
   "cell_type": "markdown",
   "metadata": {},
   "source": [
    "**Answer:**"
   ]
  },
  {
   "cell_type": "markdown",
   "metadata": {},
   "source": [
    "## Question 3 (Bonus)"
   ]
  },
  {
   "cell_type": "markdown",
   "metadata": {},
   "source": [
    "Write a function that displays the neighborhood graph of a node $i$ using GraphViz. The neighborhood graph of $i$, denoted $G(i) = (V(i), E(i))$, is such that:\n",
    "- $V(i) = \\{i\\}\\cup N(i)$\n",
    "- $E(i) = \\{(j,k)\\in E, j \\in V(i), k \\in V(i)\\}$\n",
    "\n",
    "Test it on a few researchers (avoid researchers with too many co-authors if you want to see something) to see how it looks."
   ]
  },
  {
   "cell_type": "markdown",
   "metadata": {},
   "source": [
    "**Answer:**"
   ]
  },
  {
   "cell_type": "markdown",
   "metadata": {},
   "source": [
    "## Question 4\n",
    "\n",
    "Using list comprehensions, compute the list of $t_i$, then $C_l$, $C_g$, and $C_r$ for the DBLP graph.\n",
    "- You can compute the $t_i$ in just one list comprehension (possibly nested).\n",
    "- The computation of $t_i$ should take about 1-10 minutes if you have a clean code\n",
    "    - Check your speed on small scales before launching the full computation.\n",
    "    - Optimize your code!\n",
    "    - you should save the result. Note that a list comprehension returns a Python list, which you may want to turn into a numpy ``array`` with ``np.array()``."
   ]
  },
  {
   "cell_type": "markdown",
   "metadata": {},
   "source": [
    "**Answer:**"
   ]
  },
  {
   "cell_type": "markdown",
   "metadata": {},
   "source": [
    "## Question 5\n",
    "\n",
    "Discuss the values of $C_r$, $C_l$ and $C_g$. Can you give some explanation?\n",
    "\n",
    "(this a question where you can show your discussion skills, try to say interesting things)"
   ]
  },
  {
   "cell_type": "markdown",
   "metadata": {},
   "source": [
    "**Answer:**"
   ]
  },
  {
   "cell_type": "markdown",
   "metadata": {},
   "source": [
    "## Question 6 (bonus)"
   ]
  },
  {
   "cell_type": "markdown",
   "metadata": {},
   "source": [
    "The DBLP dataset comes from\n",
    "\n",
    "http://konect.uni-koblenz.de/downloads/tsv/dblp_coauthor.tar.bz2\n",
    "\n",
    "The format was not exactly the one used here, so it was converted with the following code."
   ]
  },
  {
   "cell_type": "raw",
   "metadata": {},
   "source": [
    "%pylab inline\n",
    "\n",
    "directory = \"../Datasets/\"\n",
    "dblp_data = directory+\"out.dblp_coauthor\"\n",
    "\n",
    "with open(dblp_data) as f:\n",
    "    edges = zeros([18986618, 2], dtype = int)\n",
    "    n = 0\n",
    "    next(f)\n",
    "    for line in f:\n",
    "        line = [int(s) for s in line.split()]\n",
    "        edges[n, :] = [line[0]-1, line[1]-1]\n",
    "        n += 1\n",
    "edges = edges[edges[:, 1].argsort()]\n",
    "edges = edges[edges[:, 0].argsort(kind='mergesort')]\n",
    "\n",
    "f = open(directory+\"dblp.adja\",'w')\n",
    "\n",
    "c_source, c_dest = edges[0,:]\n",
    "to_write = str(c_dest)\n",
    "\n",
    "for i in range(1, 18986618):\n",
    "    if edges[i,0]>c_source:\n",
    "        f.write(to_write+\"\\n\")\n",
    "        c_source, c_dest = edges[i, :]\n",
    "        to_write = str(c_dest)\n",
    "    elif edges[i,1]>c_dest:\n",
    "        c_dest = edges[i, 1]\n",
    "        to_write += \" \"+str(c_dest)\n",
    "f.write(to_write+\"\\n\")\n",
    "f.close() \n",
    "\n",
    "import codecs\n",
    "df = codecs.open(directory+\"dblp.ids\", \"w\", \"utf-8\")\n",
    "\n",
    "with codecs.open(directory+\"ent.author\", \"r\", \"utf-8\") as f:\n",
    "    for i in range(3):\n",
    "        next(f)\n",
    "    for line in f:\n",
    "        df.write(line.split(\"\\\"\")[1]+\"\\n\") \n",
    "\n",
    "df.close()"
   ]
  },
  {
   "cell_type": "markdown",
   "metadata": {},
   "source": [
    "Sadly, the intern that wrote the code didn't comment it. Can you reverse engineer the code and explain how it works?"
   ]
  },
  {
   "cell_type": "markdown",
   "metadata": {},
   "source": [
    "**Answer:**"
   ]
  },
  {
   "cell_type": "markdown",
   "metadata": {},
   "source": [
    "# 4. Going IMDB (bonus)"
   ]
  },
  {
   "cell_type": "markdown",
   "metadata": {},
   "source": [
    "Try to redo the practical using the IMDB dataset. As it is a bigger dataset, you will have to be cautious.\n",
    "- You can use *Bacon, Kevin*, and *Rochefort, Jean*, *Hallyday, Johnny* as examples.\n",
    "- 2 Go of usable RAM recommended.\n",
    "- Do not compute Question 3.4 for IMDB during the practical!\n",
    "\n"
   ]
  },
  {
   "cell_type": "markdown",
   "metadata": {},
   "source": [
    "**Answer:**"
   ]
  }
 ],
 "metadata": {
  "language_info": {
   "name": "python",
   "pygments_lexer": "ipython3"
  }
 },
 "nbformat": 4,
 "nbformat_minor": 1
}
